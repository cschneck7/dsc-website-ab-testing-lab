{
 "cells": [
  {
   "cell_type": "markdown",
   "metadata": {},
   "source": [
    "# Website A/B Testing - Lab\n",
    "\n",
    "## Introduction\n",
    "\n",
    "In this lab, you'll get another chance to practice your skills at conducting a full A/B test analysis. It will also be a chance to practice your data exploration and processing skills! The scenario you'll be investigating is data collected from the homepage of a music app page for audacity.\n",
    "\n",
    "## Objectives\n",
    "\n",
    "You will be able to:\n",
    "* Analyze the data from a website A/B test to draw relevant conclusions\n",
    "* Explore and analyze web action data"
   ]
  },
  {
   "cell_type": "markdown",
   "metadata": {},
   "source": [
    "## Exploratory Analysis\n",
    "\n",
    "Start by loading in the dataset stored in the file 'homepage_actions.csv'. Then conduct an exploratory analysis to get familiar with the data."
   ]
  },
  {
   "cell_type": "markdown",
   "metadata": {},
   "source": [
    "> Hints:\n",
    "    * Start investigating the id column:\n",
    "        * How many viewers also clicked?\n",
    "        * Are there any anomalies with the data; did anyone click who didn't view?\n",
    "        * Is there any overlap between the control and experiment groups? \n",
    "            * If so, how do you plan to account for this in your experimental design?"
   ]
  },
  {
   "cell_type": "code",
   "execution_count": 2,
   "metadata": {},
   "outputs": [],
   "source": [
    "#Your code here\n",
    "import pandas as pd\n",
    "import numpy as np\n",
    "import matplotlib.pyplot as plt\n",
    "import seaborn as sns\n",
    "from scipy import stats\n",
    "\n",
    "%matplotlib inline"
   ]
  },
  {
   "cell_type": "code",
   "execution_count": 3,
   "metadata": {},
   "outputs": [
    {
     "data": {
      "text/html": [
       "<div>\n",
       "<style scoped>\n",
       "    .dataframe tbody tr th:only-of-type {\n",
       "        vertical-align: middle;\n",
       "    }\n",
       "\n",
       "    .dataframe tbody tr th {\n",
       "        vertical-align: top;\n",
       "    }\n",
       "\n",
       "    .dataframe thead th {\n",
       "        text-align: right;\n",
       "    }\n",
       "</style>\n",
       "<table border=\"1\" class=\"dataframe\">\n",
       "  <thead>\n",
       "    <tr style=\"text-align: right;\">\n",
       "      <th></th>\n",
       "      <th>timestamp</th>\n",
       "      <th>id</th>\n",
       "      <th>group</th>\n",
       "      <th>action</th>\n",
       "    </tr>\n",
       "  </thead>\n",
       "  <tbody>\n",
       "    <tr>\n",
       "      <th>0</th>\n",
       "      <td>2016-09-24 17:42:27.839496</td>\n",
       "      <td>804196</td>\n",
       "      <td>experiment</td>\n",
       "      <td>view</td>\n",
       "    </tr>\n",
       "    <tr>\n",
       "      <th>1</th>\n",
       "      <td>2016-09-24 19:19:03.542569</td>\n",
       "      <td>434745</td>\n",
       "      <td>experiment</td>\n",
       "      <td>view</td>\n",
       "    </tr>\n",
       "    <tr>\n",
       "      <th>2</th>\n",
       "      <td>2016-09-24 19:36:00.944135</td>\n",
       "      <td>507599</td>\n",
       "      <td>experiment</td>\n",
       "      <td>view</td>\n",
       "    </tr>\n",
       "    <tr>\n",
       "      <th>3</th>\n",
       "      <td>2016-09-24 19:59:02.646620</td>\n",
       "      <td>671993</td>\n",
       "      <td>control</td>\n",
       "      <td>view</td>\n",
       "    </tr>\n",
       "    <tr>\n",
       "      <th>4</th>\n",
       "      <td>2016-09-24 20:26:14.466886</td>\n",
       "      <td>536734</td>\n",
       "      <td>experiment</td>\n",
       "      <td>view</td>\n",
       "    </tr>\n",
       "  </tbody>\n",
       "</table>\n",
       "</div>"
      ],
      "text/plain": [
       "                    timestamp      id       group action\n",
       "0  2016-09-24 17:42:27.839496  804196  experiment   view\n",
       "1  2016-09-24 19:19:03.542569  434745  experiment   view\n",
       "2  2016-09-24 19:36:00.944135  507599  experiment   view\n",
       "3  2016-09-24 19:59:02.646620  671993     control   view\n",
       "4  2016-09-24 20:26:14.466886  536734  experiment   view"
      ]
     },
     "execution_count": 3,
     "metadata": {},
     "output_type": "execute_result"
    }
   ],
   "source": [
    "df = pd.read_csv('homepage_actions.csv')\n",
    "df.head()"
   ]
  },
  {
   "cell_type": "code",
   "execution_count": 4,
   "metadata": {},
   "outputs": [
    {
     "name": "stdout",
     "output_type": "stream",
     "text": [
      "<class 'pandas.core.frame.DataFrame'>\n",
      "RangeIndex: 8188 entries, 0 to 8187\n",
      "Data columns (total 4 columns):\n",
      " #   Column     Non-Null Count  Dtype \n",
      "---  ------     --------------  ----- \n",
      " 0   timestamp  8188 non-null   object\n",
      " 1   id         8188 non-null   int64 \n",
      " 2   group      8188 non-null   object\n",
      " 3   action     8188 non-null   object\n",
      "dtypes: int64(1), object(3)\n",
      "memory usage: 256.0+ KB\n"
     ]
    }
   ],
   "source": [
    "df.info()"
   ]
  },
  {
   "cell_type": "code",
   "execution_count": 5,
   "metadata": {},
   "outputs": [
    {
     "data": {
      "text/plain": [
       "view     6328\n",
       "click    1860\n",
       "Name: action, dtype: int64"
      ]
     },
     "execution_count": 5,
     "metadata": {},
     "output_type": "execute_result"
    }
   ],
   "source": [
    "df.action.value_counts()"
   ]
  },
  {
   "cell_type": "code",
   "execution_count": 6,
   "metadata": {},
   "outputs": [
    {
     "data": {
      "text/plain": [
       "750053    2\n",
       "389447    2\n",
       "283040    2\n",
       "918794    2\n",
       "208714    2\n",
       "         ..\n",
       "467818    1\n",
       "629924    1\n",
       "820336    1\n",
       "424916    1\n",
       "461199    1\n",
       "Name: id, Length: 6328, dtype: int64"
      ]
     },
     "execution_count": 6,
     "metadata": {},
     "output_type": "execute_result"
    }
   ],
   "source": [
    "df.id.value_counts()"
   ]
  },
  {
   "cell_type": "code",
   "execution_count": 23,
   "metadata": {
    "scrolled": true
   },
   "outputs": [],
   "source": [
    "# Use set to get unique id values\n",
    "clicks = set(df[df.action == 'click']['id'])\n",
    "views = set(df[df.action == 'view']['id'])"
   ]
  },
  {
   "cell_type": "code",
   "execution_count": 29,
   "metadata": {},
   "outputs": [
    {
     "name": "stdout",
     "output_type": "stream",
     "text": [
      "There were a total of 6328 views, and 1860 clicks.\n",
      "There were 4468 viewers who didn't click.\n",
      "There were 0 clickers who didn't view.\n"
     ]
    }
   ],
   "source": [
    "# Using set math determine if there were clickers who didn't view, and vice verso\n",
    "\n",
    "click_no_view = clicks - views\n",
    "view_no_click = views - clicks\n",
    "print('There were a total of {} views, and {} clicks.'.format(len(views), len(clicks)))\n",
    "print(\"There were {} viewers who didn't click.\".format(len(view_no_click)))\n",
    "print(\"There were {} clickers who didn't view.\".format(len(click_no_view)))"
   ]
  },
  {
   "cell_type": "code",
   "execution_count": 32,
   "metadata": {},
   "outputs": [
    {
     "name": "stdout",
     "output_type": "stream",
     "text": [
      "There were a total of 6328 unique participants in this experiment.\n",
      "There were a total of 3332 participants in the control group.\n",
      "There were a total of 2996 participants in the experiment group.\n",
      "That means there were 0 amount of overlapping id's.\n"
     ]
    }
   ],
   "source": [
    "# Check for overlap in control and experimental group\n",
    "control = set(df[df.group == 'control']['id'])\n",
    "experiment = set(df[df.group == 'experiment']['id'])\n",
    "unique_id = set(df.id)\n",
    "\n",
    "interlap = (len(control) + len(experiment)) - len(unique_id)\n",
    "\n",
    "print('There were a total of {} unique participants in this experiment.'.format(len(unique_id)))\n",
    "print('There were a total of {} participants in the control group.'.format(len(control)))\n",
    "print('There were a total of {} participants in the experiment group.'.format(len(experiment)))\n",
    "print(\"That means there were {} amount of overlapping id's.\".format(interlap))"
   ]
  },
  {
   "cell_type": "markdown",
   "metadata": {},
   "source": [
    "## Conduct a Statistical Test\n",
    "\n",
    "Conduct a statistical test to determine whether the experimental homepage was more effective than that of the control group."
   ]
  },
  {
   "cell_type": "code",
   "execution_count": null,
   "metadata": {},
   "outputs": [],
   "source": [
    "'''\n",
    "Null Hypothesis: The experimental homepage was as or less affective as the original page.\n",
    "Alternative Hypothesis: The experimental page improved the rate of clicks compared to the original page.\n",
    "\n",
    "Confidence Level alpha = .05\n",
    "'''"
   ]
  },
  {
   "cell_type": "code",
   "execution_count": 44,
   "metadata": {},
   "outputs": [
    {
     "name": "stdout",
     "output_type": "stream",
     "text": [
      "2400 out of 3332 users in the control group didn't click\n",
      "2068 out of 2996 users in the experiment group didn't click\n"
     ]
    }
   ],
   "source": [
    "#Your code here\n",
    "control_group = df[df.group == 'control']\n",
    "experiment_group = df[df.group == 'experiment']\n",
    "\n",
    "control_view_no_click = control - set(control_group[control_group.action == 'click']['id']) \n",
    "print(\"{} out of {} users in the control group didn't click\".format(len(control_view_no_click), len(control)))\n",
    "\n",
    "experiment_view_no_click = experiment - set(experiment_group[experiment_group.action == 'click']['id']) \n",
    "print(\"{} out of {} users in the experiment group didn't click\".format(len(experiment_view_no_click), len(experiment)))"
   ]
  },
  {
   "cell_type": "code",
   "execution_count": 53,
   "metadata": {
    "scrolled": true
   },
   "outputs": [
    {
     "name": "stdout",
     "output_type": "stream",
     "text": [
      "[[2400 2068]\n",
      " [ 932  928]]\n"
     ]
    }
   ],
   "source": [
    "contingency_table = np.array([(len(control_view_no_click), len(experiment_view_no_click)),\n",
    "                           (len(control-control_view_no_click), len(experiment-experiment_view_no_click))])\n",
    "print(contingency_table)"
   ]
  },
  {
   "cell_type": "code",
   "execution_count": 55,
   "metadata": {},
   "outputs": [
    {
     "name": "stdout",
     "output_type": "stream",
     "text": [
      "(6.712921132285345, 0.009571680497042266, 1, array([[2352.61946903, 2115.38053097],\n",
      "       [ 979.38053097,  880.61946903]]))\n"
     ]
    }
   ],
   "source": [
    "results = stats.contingency.chi2_contingency(contingency_table)\n",
    "print(results)"
   ]
  },
  {
   "cell_type": "code",
   "execution_count": 63,
   "metadata": {},
   "outputs": [
    {
     "name": "stdout",
     "output_type": "stream",
     "text": [
      "Our p-value comes out to 0.00957, much lower than our confidence level of .05\n",
      "Click percentage control group 21.86%\n",
      "Click percentage experiment group 23.65%\n",
      "Click rate increase: 1.79%\n"
     ]
    }
   ],
   "source": [
    "print('Our p-value comes out to {}, much lower than our confidence level of .05'.format(round(results[1], 5)))\n",
    "\n",
    "control_click_rate = len(control-control_view_no_click)/len(control_group)\n",
    "experiment_click_rate = len(experiment-experiment_view_no_click)/len(experiment_group)\n",
    "\n",
    "print('Click percentage control group {}%'.format(100*round(control_click_rate, 4)))\n",
    "print('Click percentage experiment group {}%'.format(100*round(experiment_click_rate, 4)))\n",
    "print('Click rate increase: {}%'.format(100*round(experiment_click_rate-control_click_rate, 4)))"
   ]
  },
  {
   "cell_type": "code",
   "execution_count": null,
   "metadata": {},
   "outputs": [],
   "source": [
    "'''\n",
    "With this we can confidently reject the null hypothesis.\n",
    "There is a clear improvement on clicks per view using the experimental homepage\n",
    "of around 1.79% up from 21.86%.\n",
    "'''"
   ]
  },
  {
   "cell_type": "markdown",
   "metadata": {},
   "source": [
    "## Verifying Results\n",
    "\n",
    "One sensible formulation of the data to answer the hypothesis test above would be to create a binary variable representing each individual in the experiment and control group. This binary variable would represent whether or not that individual clicked on the homepage; 1 for they did and 0 if they did not. \n",
    "\n",
    "The variance for the number of successes in a sample of a binomial variable with n observations is given by:\n",
    "\n",
    "## $n\\bullet p (1-p)$\n",
    "\n",
    "Given this, perform 3 steps to verify the results of your statistical test:\n",
    "1. Calculate the expected number of clicks for the experiment group, if it had the same click-through rate as that of the control group. \n",
    "2. Calculate the number of standard deviations that the actual number of clicks was from this estimate. \n",
    "3. Finally, calculate a p-value using the normal distribution based on this z-score."
   ]
  },
  {
   "cell_type": "markdown",
   "metadata": {},
   "source": [
    "### Step 1:\n",
    "Calculate the expected number of clicks for the experiment group, if it had the same click-through rate as that of the control group. "
   ]
  },
  {
   "cell_type": "code",
   "execution_count": 66,
   "metadata": {},
   "outputs": [
    {
     "name": "stdout",
     "output_type": "stream",
     "text": [
      "Expected clicks in experiment group: 857.6848030018762\n"
     ]
    }
   ],
   "source": [
    "#Your code here\n",
    "expected_exp_clicks = len(experiment_group) * control_click_rate\n",
    "print('Expected clicks in experiment group: {}'.format(expected_exp_clicks))"
   ]
  },
  {
   "cell_type": "markdown",
   "metadata": {},
   "source": [
    "### Step 2:\n",
    "Calculate the number of standard deviations that the actual number of clicks was from this estimate."
   ]
  },
  {
   "cell_type": "code",
   "execution_count": 69,
   "metadata": {},
   "outputs": [
    {
     "name": "stdout",
     "output_type": "stream",
     "text": [
      "Number of standard deviations away: 2.61\n"
     ]
    }
   ],
   "source": [
    "#Your code here\n",
    "n = len(control_group)\n",
    "var = n*control_click_rate*(1-control_click_rate)\n",
    "std = np.sqrt(var)\n",
    "num_of_std = (len(experiment-experiment_view_no_click) - expected_exp_clicks)/std\n",
    "\n",
    "print('Number of standard deviations away: {}'.format(round(num_of_std, 2)))"
   ]
  },
  {
   "cell_type": "markdown",
   "metadata": {},
   "source": [
    "### Step 3: \n",
    "Finally, calculate a p-value using the normal distribution based on this z-score."
   ]
  },
  {
   "cell_type": "code",
   "execution_count": 71,
   "metadata": {},
   "outputs": [
    {
     "name": "stdout",
     "output_type": "stream",
     "text": [
      "Resulting p-value: 0.004586510360224532\n"
     ]
    }
   ],
   "source": [
    "#Your code here\n",
    "p_value = stats.norm.sf(num_of_std)\n",
    "print('Resulting p-value: {}'.format(p_value))"
   ]
  },
  {
   "cell_type": "markdown",
   "metadata": {},
   "source": [
    "### Analysis:\n",
    "\n",
    "Does this result roughly match that of the previous statistical test?\n",
    "\n",
    "> Comment: My result was twice as large as this result, but still much smaller than .005. \n",
    "This might have been because I utilized a chi-squared test instead of a t-test. "
   ]
  },
  {
   "cell_type": "markdown",
   "metadata": {},
   "source": [
    "## Summary\n",
    "\n",
    "In this lab, you continued to get more practice designing and conducting AB tests. This required additional work preprocessing and formulating the initial problem in a suitable manner. Additionally, you also saw how to verify results, strengthening your knowledge of binomial variables, and reviewing initial statistical concepts of the central limit theorem, standard deviation, z-scores, and their accompanying p-values."
   ]
  }
 ],
 "metadata": {
  "kernelspec": {
   "display_name": "Python 3 (ipykernel)",
   "language": "python",
   "name": "python3"
  },
  "language_info": {
   "codemirror_mode": {
    "name": "ipython",
    "version": 3
   },
   "file_extension": ".py",
   "mimetype": "text/x-python",
   "name": "python",
   "nbconvert_exporter": "python",
   "pygments_lexer": "ipython3",
   "version": "3.9.12"
  }
 },
 "nbformat": 4,
 "nbformat_minor": 2
}
